{
 "cells": [
  {
   "cell_type": "code",
   "execution_count": 34,
   "metadata": {},
   "outputs": [
    {
     "data": {
      "application/vnd.jupyter.widget-view+json": {
       "model_id": "ca23aa6f1ac147c39f2d2fbb1b0ca9de",
       "version_major": 2,
       "version_minor": 0
      },
      "text/plain": [
       "SelectMultiple(description='MenuBarDir', disabled=True, index=(0, 1, 2, 3, 4, 5, 6, 7, 8), options=('..\\\\zHome…"
      ]
     },
     "metadata": {},
     "output_type": "display_data"
    },
    {
     "data": {
      "application/vnd.jupyter.widget-view+json": {
       "model_id": "e3b35b75d3f646009a3fe60d96642099",
       "version_major": 2,
       "version_minor": 0
      },
      "text/plain": [
       "interactive(children=(ToggleButtons(button_style='info', description='ChangeUpdateMenu', index=1, options=(Tru…"
      ]
     },
     "metadata": {},
     "output_type": "display_data"
    },
    {
     "data": {
      "application/vnd.jupyter.widget-view+json": {
       "model_id": "65823822554a4bc08dd1e09c41acd679",
       "version_major": 2,
       "version_minor": 0
      },
      "text/plain": [
       "SelectMultiple(description='MainMenuDir', disabled=True, index=(0, 1, 2, 3, 4), options=('..\\\\zDesigner\\\\zDesi…"
      ]
     },
     "metadata": {},
     "output_type": "display_data"
    },
    {
     "data": {
      "application/vnd.jupyter.widget-view+json": {
       "model_id": "a688070be2eb4536bd4ef060c27bbd66",
       "version_major": 2,
       "version_minor": 0
      },
      "text/plain": [
       "interactive(children=(ToggleButtons(button_style='info', description='ChangeAddMDNoteBooks', options=(True, Fa…"
      ]
     },
     "metadata": {},
     "output_type": "display_data"
    },
    {
     "data": {
      "application/vnd.jupyter.widget-view+json": {
       "model_id": "a797cc7a36f54ab8ad7c63f51a7b5ee0",
       "version_major": 2,
       "version_minor": 0
      },
      "text/plain": [
       "Textarea(value='', description='MDNoteBookDir:', placeholder='C:\\\\Zac\\\\GitHub\\\\Notes\\\\zac1.md,C:\\\\Zac\\\\GitHub\\…"
      ]
     },
     "metadata": {},
     "output_type": "display_data"
    },
    {
     "data": {
      "application/vnd.jupyter.widget-view+json": {
       "model_id": "9b76f774c8cb4fe997ca8af9f97e34e0",
       "version_major": 2,
       "version_minor": 0
      },
      "text/plain": [
       "Select(description='MDExportPath', options=('..\\\\zDesigner', '..\\\\zLearner', '..\\\\zWriter', '..\\\\zPhotographer…"
      ]
     },
     "metadata": {},
     "output_type": "display_data"
    },
    {
     "data": {
      "application/vnd.jupyter.widget-view+json": {
       "model_id": "18c39c128abe46deab5d7498f12cf406",
       "version_major": 2,
       "version_minor": 0
      },
      "text/plain": [
       "ToggleButtons(button_style='info', description='UploadAllMenuBars', index=1, options=(True, False), tooltips=(…"
      ]
     },
     "metadata": {},
     "output_type": "display_data"
    },
    {
     "data": {
      "application/vnd.jupyter.widget-view+json": {
       "model_id": "58e5fc65f1c0405895c800663575902c",
       "version_major": 2,
       "version_minor": 0
      },
      "text/plain": [
       "ToggleButtons(button_style='info', description='UpdateCV', index=1, options=(True, False), tooltips=('UpdateCV…"
      ]
     },
     "metadata": {},
     "output_type": "display_data"
    },
    {
     "data": {
      "application/vnd.jupyter.widget-view+json": {
       "model_id": "18c39c128abe46deab5d7498f12cf406",
       "version_major": 2,
       "version_minor": 0
      },
      "text/plain": [
       "ToggleButtons(button_style='info', description='UploadAllMenuBars', index=1, options=(True, False), tooltips=(…"
      ]
     },
     "metadata": {},
     "output_type": "display_data"
    }
   ],
   "source": [
    "import ipywidgets as widgets\n",
    "import codecs\n",
    "\n",
    "theMenuBarDir = [\n",
    "    \"..\\zHome.html\",\n",
    "    \"..\\zDesigner\\zDesigner.html\",\n",
    "    \"..\\zLearner\\zLearner.html\",\n",
    "    \"..\\zWriter\\zWriter.html\",\n",
    "    \"..\\zPhotographer\\zPhotographer.html\",\n",
    "    \"..\\zIndividualDeveloper\\zIndividualDeveloper.html\",\n",
    "    \"..\\zCV.html\",\n",
    "    \"..\\zSkills.html\",\n",
    "    \"..\\zContact.html\",\n",
    "]\n",
    "MenuBarDirDisplay = widgets.SelectMultiple(\n",
    "    options=theMenuBarDir,\n",
    "    value=theMenuBarDir,\n",
    "    description=\"MenuBarDir\",\n",
    "    disabled=True,\n",
    ")\n",
    "\n",
    "\n",
    "ChangeUpdateMenu = widgets.ToggleButtons(\n",
    "    options=[True, False],\n",
    "    description=\"ChangeUpdateMenu\",\n",
    "    value=False,\n",
    "    disabled=False,\n",
    "    button_style=\"info\",  # 'success', 'info', 'warning', 'danger' or ''\n",
    "    tooltips=[\"Click true if you want to specifically update one menu page.\", \"False\"],\n",
    ")\n",
    "\n",
    "def MainMenuDirDisplayEnable(Bool):\n",
    "    MainMenuDirDisplay.disabled = not Bool\n",
    "\n",
    "mainMenuDir = [\n",
    "    \"..\\zDesigner\\zDesigner.html\",\n",
    "    \"..\\zLearner\\zLearner.html\",\n",
    "    \"..\\zWriter\\zWriter.html\",\n",
    "    \"..\\zPhotographer\\zPhotographer.html\",\n",
    "    \"..\\zIndividualDeveloper\\zIndividualDeveloper.html\",\n",
    "]\n",
    "MainMenuDirDisplay = widgets.SelectMultiple(\n",
    "    options=mainMenuDir,\n",
    "    value=mainMenuDir,\n",
    "    description=\"MainMenuDir\",\n",
    "    disabled=False,\n",
    ")\n",
    "\n",
    "\n",
    "ChangeAddMDNoteBooks = widgets.ToggleButtons(\n",
    "    options=[True, False],\n",
    "    description=\"ChangeAddMDNoteBooks\",\n",
    "    value=True,\n",
    "    disabled=False,\n",
    "    button_style=\"info\",  # 'success', 'info', 'warning', 'danger' or ''\n",
    "    tooltips=[\"Add more .md notes on the website\", \"Do not add anything\"],\n",
    ")\n",
    "\n",
    "def MDNoteBookDirDisplayEnable(Bool):\n",
    "    MDNoteBookDirDisplay.disabled = not Bool\n",
    "    MDExportPathDisplay.disabled = not Bool\n",
    "\n",
    "\n",
    "\n",
    "MDNoteBookDirDisplay   =  widgets.Textarea(\n",
    "    value='',\n",
    "    placeholder=r'C:\\Zac\\GitHub\\Notes\\zac1.md,C:\\Zac\\GitHub\\ZacZhangzhuo.github.io\\zac2.md',\n",
    "    description='MDNoteBookDir:',\n",
    "    disabled=False\n",
    ")\n",
    "\n",
    "\n",
    "MDExportPathDisplay = widgets.Select(\n",
    "    options=[r\"..\\zDesigner\",r\"..\\zLearner\",r\"..\\zWriter\",r\"..\\zPhotographer\",r\"..\\zIndividualDeveloper\"],\n",
    "    description='MDExportPath',\n",
    "    disabled=False\n",
    ")\n",
    "\n",
    "\n",
    "ChangeUploadAllMenuBars = widgets.ToggleButtons(\n",
    "    options=[True, False],\n",
    "    description=\"UploadAllMenuBars\",\n",
    "    value=False,\n",
    "    disabled=False,\n",
    "    button_style=\"info\",  # 'success', 'info', 'warning', 'danger' or ''\n",
    "    tooltips=[\"UploadAllMenuBars\", \"Do not UploadAllMenuBars\"],\n",
    ")\n",
    "\n",
    "\n",
    "ChangeUpdateCV = widgets.ToggleButtons(\n",
    "    options=[True, False],\n",
    "    description=\"UpdateCV\",\n",
    "    value=False,\n",
    "    disabled=False,\n",
    "    button_style=\"info\",  # 'success', 'info', 'warning', 'danger' or ''\n",
    "    tooltips=[\"UpdateCV\", \"Do not UpdateCV\"],\n",
    ")\n",
    "\n",
    "\n",
    "\n",
    "\n",
    "ChangeUploadAllMenuBars = widgets.ToggleButtons(\n",
    "    options=[True, False],\n",
    "    description=\"UploadAllMenuBars\",\n",
    "    value=False,\n",
    "    disabled=False,\n",
    "    button_style=\"info\",  # 'success', 'info', 'warning', 'danger' or ''\n",
    "    tooltips=[\"UploadAllMenuBars\", \"Do not UploadAllMenuBars\"],\n",
    ")\n",
    "\n",
    "# AssignParas\n",
    "\n",
    "# widgets.interact(A)\n",
    "\n",
    "# addMD = False\n",
    "# def Enable(addMD):\n",
    "# MenuBarDirDisplay.disabled = addMD\n",
    "# print(MenuBarDirDisplay.disabled)\n",
    "# print(addMD)\n",
    "\n",
    "\n",
    "display(MenuBarDirDisplay)\n",
    "widgets.interact(MainMenuDirDisplayEnable, Bool=ChangeUpdateMenu)\n",
    "display(MainMenuDirDisplay)\n",
    "widgets.interact(MDNoteBookDirDisplayEnable, Bool=ChangeAddMDNoteBooks)\n",
    "display(MDNoteBookDirDisplay,MDExportPathDisplay,ChangeUploadAllMenuBars,ChangeUpdateCV,ChangeUploadAllMenuBars )\n"
   ]
  },
  {
   "cell_type": "code",
   "execution_count": 35,
   "metadata": {},
   "outputs": [],
   "source": [
    "MainMenuDir = list(MainMenuDirDisplay.value)\n",
    "MenuBarDir = list(MenuBarDirDisplay.value)\n",
    "MDNoteBookDir = MDNoteBookDirDisplay.value.split(\",\")\n",
    "MDExportPath = MDExportPathDisplay.value\n",
    "UploadAllMenuBars = ChangeUploadAllMenuBars.value\n",
    "UpdateCV = ChangeUpdateCV.value\n",
    "UploadAllMenuBars = ChangeUploadAllMenuBars\n"
   ]
  },
  {
   "cell_type": "code",
   "execution_count": null,
   "metadata": {},
   "outputs": [],
   "source": []
  }
 ],
 "metadata": {
  "kernelspec": {
   "display_name": "Python 3 (ipykernel)",
   "language": "python",
   "name": "python3"
  },
  "language_info": {
   "codemirror_mode": {
    "name": "ipython",
    "version": 3
   },
   "file_extension": ".py",
   "mimetype": "text/x-python",
   "name": "python",
   "nbconvert_exporter": "python",
   "pygments_lexer": "ipython3",
   "version": "3.11.0"
  },
  "vscode": {
   "interpreter": {
    "hash": "8c3baee22f7aea24140d8527738ad3288fd74ddfe4eeddd8ce2c2f5be318de5e"
   }
  }
 },
 "nbformat": 4,
 "nbformat_minor": 2
}
