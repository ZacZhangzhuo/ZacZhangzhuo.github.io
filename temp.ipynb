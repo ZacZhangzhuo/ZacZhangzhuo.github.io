{
 "cells": [
  {
   "cell_type": "code",
   "execution_count": 24,
   "metadata": {},
   "outputs": [
    {
     "data": {
      "application/vnd.jupyter.widget-view+json": {
       "model_id": "05381c2a17fb4bc99f00df6ee905b71b",
       "version_major": 2,
       "version_minor": 0
      },
      "text/plain": [
       "SelectMultiple(description='MenuBarDir', disabled=True, index=(0, 1, 2, 3, 4, 5, 6, 7, 8), options=('..\\\\zHome…"
      ]
     },
     "metadata": {},
     "output_type": "display_data"
    },
    {
     "data": {
      "application/vnd.jupyter.widget-view+json": {
       "model_id": "de10af9db0fa458fad741a8d6f719958",
       "version_major": 2,
       "version_minor": 0
      },
      "text/plain": [
       "interactive(children=(ToggleButtons(button_style='info', description='ChangeUpdateMenu', index=1, options=(Tru…"
      ]
     },
     "metadata": {},
     "output_type": "display_data"
    },
    {
     "data": {
      "application/vnd.jupyter.widget-view+json": {
       "model_id": "e336a3a61137486d8a14ea689282944e",
       "version_major": 2,
       "version_minor": 0
      },
      "text/plain": [
       "SelectMultiple(description='MainMenuDir', disabled=True, index=(0, 1, 2, 3, 4), options=('..\\\\zDesigner\\\\zDesi…"
      ]
     },
     "metadata": {},
     "output_type": "display_data"
    },
    {
     "data": {
      "application/vnd.jupyter.widget-view+json": {
       "model_id": "eb094934f78a4fa4a4cdd1c43dc17083",
       "version_major": 2,
       "version_minor": 0
      },
      "text/plain": [
       "interactive(children=(ToggleButtons(button_style='info', description='ChangeAddMDNoteBooks', options=(True, Fa…"
      ]
     },
     "metadata": {},
     "output_type": "display_data"
    },
    {
     "data": {
      "application/vnd.jupyter.widget-view+json": {
       "model_id": "6da5cf7d7ab6404389c19d1a69867833",
       "version_major": 2,
       "version_minor": 0
      },
      "text/plain": [
       "IntsInput(value=[1, 4, 3243], format='$,d', max=1000000, min=0)"
      ]
     },
     "metadata": {},
     "output_type": "display_data"
    }
   ],
   "source": [
    "import ipywidgets as widgets\n",
    "\n",
    "\n",
    "theMenuBarDir = [\n",
    "    \"..\\zHome.html\",\n",
    "    \"..\\zDesigner\\zDesigner.html\",\n",
    "    \"..\\zLearner\\zLearner.html\",\n",
    "    \"..\\zWriter\\zWriter.html\",\n",
    "    \"..\\zPhotographer\\zPhotographer.html\",\n",
    "    \"..\\zIndividualDeveloper\\zIndividualDeveloper.html\",\n",
    "    \"..\\zCV.html\",\n",
    "    \"..\\zSkills.html\",\n",
    "    \"..\\zContact.html\",\n",
    "]\n",
    "MenuBarDirDisplay = widgets.SelectMultiple(\n",
    "    options=theMenuBarDir,\n",
    "    value=theMenuBarDir,\n",
    "    description=\"MenuBarDir\",\n",
    "    disabled=True,\n",
    ")\n",
    "\n",
    "\n",
    "ChangeUpdateMenu = widgets.ToggleButtons(\n",
    "    options=[True, False],\n",
    "    description=\"ChangeUpdateMenu\",\n",
    "    value=False,\n",
    "    disabled=False,\n",
    "    button_style=\"info\",  # 'success', 'info', 'warning', 'danger' or ''\n",
    "    tooltips=[\"Click true if you want to specifically update one menu page.\", \"False\"],\n",
    ")\n",
    "\n",
    "def MainMenuDirDisplayEnable(Bool):\n",
    "    MainMenuDirDisplay.disabled = not Bool\n",
    "\n",
    "mainMenuDir = [\n",
    "    \"..\\zDesigner\\zDesigner.html\",\n",
    "    \"..\\zLearner\\zLearner.html\",\n",
    "    \"..\\zWriter\\zWriter.html\",\n",
    "    \"..\\zPhotographer\\zPhotographer.html\",\n",
    "    \"..\\zIndividualDeveloper\\zIndividualDeveloper.html\",\n",
    "]\n",
    "MainMenuDirDisplay = widgets.SelectMultiple(\n",
    "    options=mainMenuDir,\n",
    "    value=mainMenuDir,\n",
    "    description=\"MainMenuDir\",\n",
    "    disabled=False,\n",
    ")\n",
    "\n",
    "\n",
    "ChangeAddMDNoteBooks = widgets.ToggleButtons(\n",
    "    options=[True, False],\n",
    "    description=\"ChangeAddMDNoteBooks\",\n",
    "    value=True,\n",
    "    disabled=False,\n",
    "    button_style=\"info\",  # 'success', 'info', 'warning', 'danger' or ''\n",
    "    tooltips=[\"Add more .md notes on the website\", \"Do not add anything\"],\n",
    ")\n",
    "\n",
    "def MDNoteBookDirDisplayEnable(Bool):\n",
    "    MDNoteBookDirDisplay.disabled = not Bool\n",
    "\n",
    "\n",
    "# MDNoteBookDirDisplay = [r\"C:\\Zac\\GitHub\\Notes\\0_RhinoGrassHopperPythonStudies.md\"]\n",
    "\n",
    "MDNoteBookDirDisplay   = widgets.IntsInput(\n",
    "    value=[1, 4, 3243],\n",
    "    min=0,\n",
    "    max=1000000,\n",
    "    format='$,d'\n",
    ")\n",
    "\n",
    "# MDExportPath = (\n",
    "#     r\"..\\zLearner\"  # Will automatically add a subfolder with the same name of the .md file\n",
    "# )\n",
    "\n",
    "# # Relative path compare to this .ipynb file. The name of the .html file is the name of the bar.\n",
    "# UploadAllMenuBars = False\n",
    "# UpdateCV = False\n",
    "# UpdateAllMainMenus = True\n",
    "\n",
    "# UploadAllMenuBarsDisplay = widgets.ToggleButtons(\n",
    "#     options=[\"Slow\", \"Regular\", \"Fast\"],\n",
    "#     description=\"Speed:\",\n",
    "#     disabled=False,\n",
    "#     button_style=\"\",  # 'success', 'info', 'warning', 'danger' or ''\n",
    "#     tooltips=[\"Description of slow\", \"Description of regular\", \"Description of fast\"],\n",
    "#     #     icons=['check'] * 3\n",
    "# )\n",
    "\n",
    "# AssignParas\n",
    "\n",
    "# widgets.interact(A)\n",
    "\n",
    "# addMD = False\n",
    "# def Enable(addMD):\n",
    "# MenuBarDirDisplay.disabled = addMD\n",
    "# print(MenuBarDirDisplay.disabled)\n",
    "# print(addMD)\n",
    "\n",
    "\n",
    "display(MenuBarDirDisplay)\n",
    "widgets.interact(MainMenuDirDisplayEnable, Bool=ChangeUpdateMenu)\n",
    "display(MainMenuDirDisplay)\n",
    "widgets.interact(MDNoteBookDirDisplayEnable, Bool=ChangeAddMDNoteBooks)\n",
    "display(MDNoteBookDirDisplay)\n"
   ]
  },
  {
   "cell_type": "code",
   "execution_count": 3,
   "metadata": {},
   "outputs": [
    {
     "name": "stdout",
     "output_type": "stream",
     "text": [
      "['..\\\\zLearner\\\\zLearner.html']\n"
     ]
    }
   ],
   "source": [
    "MainMenuDir = list(MainMenuDirDisplay.value)\n",
    "MenuBarDir = list(MenuBarDirDisplay.value)\n",
    "\n",
    "print(MainMenuDir)\n",
    "\n",
    "# AddMDNoteBooks = AddMDNoteBooksDisplay.value"
   ]
  },
  {
   "cell_type": "code",
   "execution_count": 34,
   "metadata": {},
   "outputs": [
    {
     "data": {
      "application/vnd.jupyter.widget-view+json": {
       "model_id": "bb90ce2f1c7a41bf9b7727fdae374ede",
       "version_major": 2,
       "version_minor": 0
      },
      "text/plain": [
       "FileUpload(value=(), description='Upload')"
      ]
     },
     "execution_count": 34,
     "metadata": {},
     "output_type": "execute_result"
    }
   ],
   "source": [
    "widgets.FileUpload(\n",
    "    accept='',  # Accepted file extension e.g. '.txt', '.pdf', 'image/*', 'image/*,.pdf'\n",
    "    multiple=False  # True to accept multiple files upload else False\n",
    ")"
   ]
  }
 ],
 "metadata": {
  "kernelspec": {
   "display_name": "Python 3.11.0 64-bit",
   "language": "python",
   "name": "python3"
  },
  "language_info": {
   "codemirror_mode": {
    "name": "ipython",
    "version": 3
   },
   "file_extension": ".py",
   "mimetype": "text/x-python",
   "name": "python",
   "nbconvert_exporter": "python",
   "pygments_lexer": "ipython3",
   "version": "3.11.0"
  },
  "orig_nbformat": 4,
  "vscode": {
   "interpreter": {
    "hash": "8c3baee22f7aea24140d8527738ad3288fd74ddfe4eeddd8ce2c2f5be318de5e"
   }
  }
 },
 "nbformat": 4,
 "nbformat_minor": 2
}
