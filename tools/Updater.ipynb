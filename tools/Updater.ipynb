{
 "cells": [
  {
   "cell_type": "markdown",
   "metadata": {},
   "source": [
    "## Update"
   ]
  },
  {
   "cell_type": "markdown",
   "metadata": {},
   "source": [
    "## Initialization\n",
    "    This is the integrated update note book of the website: ArchZ (https://zaczhangzhuo.github.io/)\n",
    "    Credit: Zac Zhuo Zhang\n",
    "\n",
    "\n",
    "**Agreements:**\n",
    "- Use hump nomenclature rule (eg. 'zDesign') for file names, code variables, compunctions tec.\n",
    "- Avoid using space in any name.\n",
    "- Possible to add multiple items in the main folder of the article, but only one .html can exist.\n",
    "- Possible to create as many sub-files as you wish under the folder of the article for storing resources.\n",
    "- Under the folder of the article, a 'image' file most be created, and the first image of the file will be the profile of the article in the menu.\n",
    "- Create a folder for each article. The name of the folder can be different from the .html file. the .html which is a sub-item of the file. \n"
   ]
  },
  {
   "cell_type": "code",
   "execution_count": null,
   "metadata": {},
   "outputs": [],
   "source": [
    "import sys\n",
    "import os\n",
    "import markdown\n",
    "\n",
    "MenuBarDir = [\n",
    "    \"..\\zHome.html\",\n",
    "    \"..\\zDesigner\\zDesigner.html\",\n",
    "    \"..\\zLearner\\zLearner.html\",\n",
    "    \"..\\zWriter\\zWriter.html\",\n",
    "    \"..\\zPhotographer\\zPhotographer.html\",\n",
    "    \"..\\zIndividualDeveloper\\zIndividualDeveloper.html\",\n",
    "    \"..\\zCV.html\",\n",
    "    \"..\\zSkills.html\",\n",
    "    \"..\\zContact.html\",\n",
    "] # Relative path compare to this .ipynb file\n",
    "\n"
   ]
  },
  {
   "cell_type": "markdown",
   "metadata": {},
   "source": [
    "## Menu bar updater\n",
    "\n",
    "    Only run when you want to update all the menu bars\n",
    "    \n",
    "- Bar updater only read the first three layers of the files\n"
   ]
  },
  {
   "cell_type": "code",
   "execution_count": null,
   "metadata": {},
   "outputs": [],
   "source": [
    "def AddMenuBar(htmlPath):\n",
    "    barText = '<!-- Menu Bar --><div class=\"menuBar\">'\n",
    "\n",
    "    for MenuBar in MenuBarDir:\n",
    "        barText = (\n",
    "            barText\n",
    "            + '<a href=\"'\n",
    "            + os.path.relpath(MenuBar, htmlPath)[3:]\n",
    "            + ' \"class=\"menuBar\"> <p>'\n",
    "            + MenuBar.split(\"\\\\\")[-1].replace(\".html\", \"\")\n",
    "            + \"</p></a>\"\n",
    "        )\n",
    "\n",
    "    barText = barText + \"</div><!-- End of Menu Bar -->\"\n",
    "\n",
    "    # Modifying the file\n",
    "    html = open(htmlPath, \"r\", encoding=\"utf-8\")\n",
    "    htmlTexts = html.read()\n",
    "    temp = htmlTexts.split(\"<!-- Menu Bar -->\")\n",
    "    \n",
    "    if len(temp) == 2:\n",
    "        temp1 = temp[0]\n",
    "        temp2 = temp[1]\n",
    "        temp3 = temp2.split(\"<!-- End of Menu Bar -->\")[1]\n",
    "\n",
    "        htmlTexts = temp1 + barText + temp3\n",
    "\n",
    "        html = open(htmlPath, \"w\", encoding=\"utf-8\")\n",
    "        html.write(htmlTexts)\n",
    "        print(\"z: MENU BAR OF THIS FILE HAS BEEN MODIFIED:\" + htmlPath)"
   ]
  },
  {
   "cell_type": "markdown",
   "metadata": {},
   "source": [
    "Modify all path: only run when add an item into the menu bar"
   ]
  },
  {
   "cell_type": "code",
   "execution_count": 3,
   "metadata": {},
   "outputs": [],
   "source": [
    "\n",
    "allHtmlPaths = []\n",
    "\n",
    "# Get all folder (only 3 layers)\n",
    "# 1st sub folder\n",
    "fileNames1 = os.listdir(\"../\")\n",
    "temp = []\n",
    "for fileName in fileNames1:\n",
    "    if os.path.isdir(\"../\"+fileName):\n",
    "        temp.append(\"../\"+fileName)\n",
    "fileNames1 = temp\n",
    "\n",
    "# 2nd sub folder\n",
    "fileNames2 = []\n",
    "for fileName in fileNames1:\n",
    "    temp = os.listdir(fileName)\n",
    "    for t in temp:\n",
    "        if os.path.isdir(fileName + \"//\" + t):\n",
    "            fileNames2.append(fileName + \"//\" + t)\n",
    "\n",
    "Paths = [\"../\"]\n",
    "Paths.extend(fileNames1)\n",
    "Paths.extend(fileNames2)\n",
    "\n",
    "# Get html folders\n",
    "for Path in Paths:\n",
    "    allHtmlPaths.extend([os.path.join(Path, i) for i in os.listdir(Path) if i[-5:] == \".html\"])\n",
    "\n",
    "# Operation\n",
    "for htmlPath in allHtmlPaths:\n",
    "    # Generating menu bar html\n",
    "    AddMenuBar(htmlPath)\n"
   ]
  },
  {
   "cell_type": "markdown",
   "metadata": {},
   "source": [
    "## Main menu updater\n",
    "        Only run if there are more articles added, and wish to show in the main menu"
   ]
  },
  {
   "cell_type": "code",
   "execution_count": null,
   "metadata": {},
   "outputs": [],
   "source": [
    "\"\"\"\n",
    "!Example\n",
    "    <a href=\"2020-03-11 建筑思维与手机选择1/建筑思维与手机选择1.html\">\n",
    "        <img  class=\"items\" src=\"2020-03-11 建筑思维与手机选择1/images/0001.jpg\" alt=\"建筑思维与手机选择1\">\n",
    "        </a>\n",
    "\"\"\"\n",
    "\n",
    "target1 = r\"zDesigner\"\n",
    "target2 = r\"zIndividualDeveloper\"\n",
    "target3 = r\"zLearner\"\n",
    "target4 = r\"zWriter\"\n",
    "target5 = r\"zPhotographer\"\n",
    "IsModifyRecentFile = True  # The html would be modified only when the subdirectory is changed.\n",
    "deleteTheFirstOne = (\n",
    "    True  # This tells if you wanna delete the html like zWriter - You always want to!\n",
    ")\n",
    "RecentMinutes = 5\n",
    "targets = [target1, target2, target3, target4, target5]\n",
    "# targets = [target1]\n",
    "\n",
    "for target in targets:\n",
    "\n",
    "    htmlNames = []\n",
    "    imageNames = []\n",
    "\n",
    "    fileNames = os.listdir(target)\n",
    "\n",
    "    # Remove the first like zDesigner.html\n",
    "    temp = []\n",
    "    for fileName in fileNames:\n",
    "        if os.path.isdir(target + '\\\\'+fileName):\n",
    "            temp.append(fileName)\n",
    "    fileNames = temp\n",
    "    \n",
    "    # Get the .html names\n",
    "    for fileName in fileNames:\n",
    "        temp = os.listdir(target+'\\\\'+fileName )\n",
    "        \n",
    "        for t in temp:\n",
    "            if t.find(\".html\") != -1:\n",
    "                htmlNames.append(t)\n",
    "                break\n",
    "\n",
    "    # Get the images\n",
    "    for fileName in fileNames:\n",
    "        imageNames.append(os.listdir(target + \"//\" + fileName + \"//images\")[0])\n",
    "\n",
    "    # Modify recent files only\n",
    "    isChange = False\n",
    "    if IsModifyRecentFile:\n",
    "        # Only  recent files\n",
    "        for i in range(len(htmlNames)):\n",
    "            htmlPath = target + \"\\\\\" + fileNames[i] + \"\\\\\" + htmlNames[i]\n",
    "            if core_zHTML.IsRecentFile(htmlPath, RecentMinutes):\n",
    "                isChange = True\n",
    "    else:\n",
    "        isChange = True\n",
    "\n",
    "\n",
    "    # String\n",
    "    if isChange:\n",
    "        outString = \"<!--! ADD NEW ARTICLE HERE -->\"\n",
    "        for i in range(len(htmlNames) - 1, -1, -1):\n",
    "            str1 = '<a href=\"'\n",
    "            str2 = fileNames[i] + \"\\\\\" + htmlNames[i]\n",
    "            str3 = '\">'\n",
    "            str4 = '<img  class=\"items\" src=\"'\n",
    "            str5 = fileNames[i]\n",
    "            str6 = \"/images/\" + imageNames[i] + '\" alt=\"'\n",
    "            str7 = fileNames[i].split(\".\")[0]\n",
    "            str8 = '\"></a>'\n",
    "            outString = outString + str1 + str2 + str3 + str4 + str5 + str6 + str7 + str8\n",
    "        outString += \"<!-- !End of Items -->\"\n",
    "\n",
    "        targetLocation = target + \"\\\\\" + target.split(\"\\\\\")[-1] + \".html\"\n",
    "        html = open(targetLocation, \"r\", encoding=\"utf-8\")\n",
    "        htmlTexts = html.read()\n",
    "\n",
    "        temp = htmlTexts.split(\"<!--! ADD NEW ARTICLE HERE -->\")\n",
    "        temp1 = temp[0]\n",
    "        temp2 = temp[1]\n",
    "        temp3 = temp2.split(\"<!-- !End of Items -->\")[1]\n",
    "\n",
    "        htmlTexts = temp1 + outString + temp3\n",
    "\n",
    "        html = open(targetLocation, \"w\", encoding=\"utf-8\")\n",
    "        html.write(htmlTexts)\n",
    "        print(\"z: THIS FILE WOULD BE MODIFIED:\" + target.split(\"\\\\\")[-1] + \".html\")"
   ]
  },
  {
   "cell_type": "markdown",
   "metadata": {},
   "source": [
    "## CV updater\n",
    "    Only run if you want to update the CV"
   ]
  },
  {
   "cell_type": "code",
   "execution_count": 3,
   "metadata": {},
   "outputs": [
    {
     "name": "stdout",
     "output_type": "stream",
     "text": [
      "z: THIS FILE WOULD BE MODIFIED: zCV.html\n"
     ]
    }
   ],
   "source": [
    "\n",
    "def md2html(mdstr):\n",
    "    exts = ['markdown.extensions.extra', 'markdown.extensions.codehilite','markdown.extensions.tables','markdown.extensions.toc']\n",
    "\n",
    "    html = '''\n",
    "    <html lang=\"en\">\n",
    "    <head>\n",
    "    <meta http-equiv=\"X-UA-Compatible\" content=\"IE=edge\" />\n",
    "    <link rel=\"stylesheet\" href=\"zMarkdownStyles.css\" />\n",
    "    <meta name=\"viewport\" content=\"width=device-width, initial-scale=1.0\" />\n",
    "    <title>zCV</title>\n",
    "    <link\n",
    "        href=\"https://fonts.googleapis.com/css2?family=Source+Code+Pro:ital,wght@0,200;0,300;0,400;0,500;0,600;0,700;0,800;0,900;1,200;1,300;1,500;1,600;1,700;1,800;1,900&display=swap\"\n",
    "        rel=\"stylesheet\"\n",
    "    />\n",
    "    <link rel=\"icon\" href=\"/resources/LogoIcon.png\" type=\"image/x-icon\"/>\n",
    "    </head>\n",
    "    <body>\n",
    "    <img class=\"portrait\" src=\"resources/Zac_5.jpg\" alt=\"portrait\">\n",
    "    %s\n",
    "    </body>\n",
    "    </html>\n",
    "    '''\n",
    "\n",
    "    ret = markdown.markdown(mdstr,extensions=exts)\n",
    "    return html % ret\n",
    "\n",
    "location = \"../zCV.md\"\n",
    "htmlLocation = \"../zCV.html\"\n",
    "md = open(location, \"r\", encoding=\"utf-8\")\n",
    "mdTexts = md.read()\n",
    "# print (md2html(mdTexts))\n",
    "md.close()\n",
    "\n",
    "html = open(htmlLocation, \"w\", encoding=\"utf-8\")\n",
    "html.write(md2html(mdTexts))\n",
    "html.close()\n",
    "print (\"z: THIS FILE WOULD BE MODIFIED: zCV.html\")"
   ]
  },
  {
   "cell_type": "markdown",
   "metadata": {},
   "source": [
    "## Notebook updater\n",
    "      Only run if you have a new markdown note file to upload"
   ]
  },
  {
   "cell_type": "markdown",
   "metadata": {},
   "source": [
    "## WeChart article updater\n",
    "        Only run if you have a new WeChart article to upload"
   ]
  }
 ],
 "metadata": {
  "kernelspec": {
   "display_name": "Python 3.11.0 64-bit",
   "language": "python",
   "name": "python3"
  },
  "language_info": {
   "codemirror_mode": {
    "name": "ipython",
    "version": 3
   },
   "file_extension": ".py",
   "mimetype": "text/x-python",
   "name": "python",
   "nbconvert_exporter": "python",
   "pygments_lexer": "ipython3",
   "version": "3.11.0"
  },
  "orig_nbformat": 4,
  "vscode": {
   "interpreter": {
    "hash": "8c3baee22f7aea24140d8527738ad3288fd74ddfe4eeddd8ce2c2f5be318de5e"
   }
  }
 },
 "nbformat": 4,
 "nbformat_minor": 2
}
