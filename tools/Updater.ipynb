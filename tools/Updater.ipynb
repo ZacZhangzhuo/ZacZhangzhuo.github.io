{
 "cells": [
  {
   "cell_type": "markdown",
   "metadata": {},
   "source": [
    "## Update"
   ]
  },
  {
   "cell_type": "markdown",
   "metadata": {},
   "source": [
    "## Initialization\n",
    "    This is the integrated update note book of the website: ArchZ (https://zaczhangzhuo.github.io/)\n",
    "    Credit: Zac Zhuo Zhang\n",
    "\n",
    "\n",
    "**Agreements:**\n",
    "- Use hump nomenclature rule (eg. 'zDesign') for file names, code variables, compunctions tec.\n",
    "- Avoid using space in any name.\n",
    "- Possible to add multiple items in the main folder of the article, but only one .html can exist.\n",
    "- Possible to create as many sub-files as you wish under the folder of the article for storing resources.\n",
    "- Under the folder of the article, a 'image' file most be created, and the first image of the file will be the profile of the article in the menu.\n",
    "- Create a folder for each article. The name of the folder can be different from the .html file. the .html which is a sub-item of the file. \n",
    "- Only read the first two layers of the files. deep files can be used as backups.\n"
   ]
  },
  {
   "cell_type": "code",
   "execution_count": 139,
   "metadata": {},
   "outputs": [
    {
     "name": "stdout",
     "output_type": "stream",
     "text": [
      "z:ALL THE HTML FILES:\n",
      "['../index.html', '../Konstanz 康城完全攻略.html', '../zContact.html', '../zCV.html', '../zHome.html', '../zSkills.html', '../zDesigner/zDesigner.html', '../zIndividualDeveloper/zIndividualDeveloper.html', '../zLearner/zLearner.html', '../zLife/zLife.html', '../zPhotographer/zPhotographer.html', '../zWriter/zWriter.html', '../zDesigner/2020-01-10 Logo画好，就算开张了/Logo画好，就算开张了.html', '../zDesigner/2020-01-12 PARASITE——课程设计/PARASITE——课程设计.html', '../zDesigner/2020-10-30 Campus+ ——课程设计/Campus+ ——课程设计.html', '../zDesigner/2021-03-27 ArchZ 个人网站上线/ArchZ 个人网站上线.html', '../zDesigner/2021-10-08 Megachain——课程设计/Megachain——课程设计.html', '../zDesigner/2022-05-01 Section Clipper —— 课程设计/Section Clipper —— 课程设计.html', '../zIndividualDeveloper/Zorse/zorse.html', '../zLearner/2020-01-13 MAYA学习——Tips小结1/MAYA学习——Tips小结1.html', '../zLearner/2020-01-14 MAYA学习——Tips小结2/MAYA学习——Tips小结2.html', '../zLearner/2020-02-17 Grasshopper-C 整理——Script/Grasshopper-C 整理——Script.html', '../zLearner/2020-02-18 Grasshopper-C 整理——Plugin/Grasshopper-C 整理——Plugin.html', '../zLearner/2020-02-19 Grasshopper-C 贪吃蛇/Grasshopper-C 贪吃蛇.html', '../zLearner/2020-03-02 Rhino学习——工具集/Rhino学习——工具集.html', '../zLearner/2020-03-24 Ameba 2D 教程/Ameba 2D 教程.html', '../zLearner/2020-09-08 Processing学习——Migration Coding/Processing学习——Migration Coding.html', '../zLearner/2021-08-14 GH - VSCode 双向联动编程——Script Parasite/GH - VSCode 双向联动编程——Script Parasite.html', '../zLearner/2021-10-09 Grasshopper 基础教程/Grasshopper 基础教程.html', '../zLearner/2022-02-13 Essential Guide to C Scripting for Grasshopper/Essential Guide to C Scripting for Grasshopper.html', '../zLearner/2022-09-13 Grasshopper-Python 贪吃蛇/Grasshopper-Python 贪吃蛇.html', '../zPhotographer/2020-04-02 谢子龙影像艺术中心——长沙/谢子龙影像艺术中心——长沙.html', '../zWriter/2020-01-09 不是开天辟地，却为我的新篇/不是开天辟地，却为我的新篇.html', '../zWriter/2020-02-23 疫情离我们有多近/疫情离我们有多近.html', '../zWriter/2020-03-11 建筑思维与手机选择1/建筑思维与手机选择1.html', '../zWriter/2020-03-12 建筑思维与手机选择2/建筑思维与手机选择2.html', '../zWriter/2020-03-14 WaveDeng：你为什么需要个人网站/WaveDeng：你为什么需要个人网站.html', '../zWriter/2020-03-14 WaveDeng：自媒体是什么？开发者如何运用它/WaveDeng：自媒体是什么？开发者如何运用它.html', '../zWriter/2022-09-12 Growing, Growing, Brighter Everyday-/Growing, Growing, Brighter Everyday-.html']\n"
     ]
    }
   ],
   "source": [
    "import sys\n",
    "import os\n",
    "import markdown\n",
    "\n",
    "\n",
    "MainMenuDir = [\n",
    "    \"../zDesigner/zDesigner.html\",\n",
    "    \"../zLearner/zLearner.html\",\n",
    "    \"../zWriter/zWriter.html\",\n",
    "    \"../zPhotographer/zPhotographer.html\",\n",
    "    \"../zIndividualDeveloper/zIndividualDeveloper.html\",\n",
    "]\n",
    "MenuBarDir = [\n",
    "    \"../zHome.html\",\n",
    "    \"../zCV.html\",\n",
    "    \"../zSkills.html\",\n",
    "    \"../zContact.html\",\n",
    "]\n",
    "MenuBarDir.extend(MainMenuDir)\n",
    "\n",
    "# Relative path compare to this .ipynb file. The name of the .html file is the name of the bar.\n",
    "UploadAllMenuBars = False\n",
    "UpdateCV = False\n",
    "UpdateAllMainMenus = True\n",
    "AddMDNoteBooks = True\n",
    "\n",
    "MDNoteBookDir = [\n",
    "    'C:/Zac/GitHub/Notes/0_RhinoGrassHopperPythonStudies.md'\n",
    "]\n",
    "\n",
    "\n",
    "# ------------------- Get all folder (only 3 layers): Only two file layers.\n",
    "allHtmlPaths = []\n",
    "# 1st sub folder\n",
    "fileNames1 = os.listdir(\"../\")\n",
    "temp = []\n",
    "for fileName in fileNames1:\n",
    "    if os.path.isdir(\"../\" + fileName):\n",
    "        temp.append(\"../\" + fileName)\n",
    "fileNames1 = temp\n",
    "\n",
    "# 2nd sub folder\n",
    "fileNames2 = []\n",
    "for fileName in fileNames1:\n",
    "    temp = os.listdir(fileName)\n",
    "    for t in temp:\n",
    "        if os.path.isdir(fileName + \"/\" + t):\n",
    "            fileNames2.append(fileName + \"/\" + t)\n",
    "\n",
    "Paths = [\"..\"]\n",
    "Paths.extend(fileNames1)\n",
    "Paths.extend(fileNames2)\n",
    "\n",
    "# Get html folders\n",
    "for Path in Paths:\n",
    "    allHtmlPaths.extend([Path +'/'+ i for i in os.listdir(Path) if i[-5:] == \".html\"])\n",
    "print(\"z:ALL THE HTML FILES:\")\n",
    "print(allHtmlPaths)\n",
    "# ------------------- Get all folder (only 3 layers): Only two file layers.\n"
   ]
  },
  {
   "cell_type": "markdown",
   "metadata": {},
   "source": [
    "## Menu bar updater\n",
    "\n",
    "    Only run when you want to update all the menu bars\n"
   ]
  },
  {
   "cell_type": "code",
   "execution_count": 86,
   "metadata": {},
   "outputs": [],
   "source": [
    "def AddMenuBar(htmlPath):\n",
    "    barText = '<!-- Menu Bar --><div class=\"menuBar\">'\n",
    "\n",
    "    for MenuBar in MenuBarDir:\n",
    "        barText = (\n",
    "            barText\n",
    "            + '<a href=\"'\n",
    "            + os.path.relpath(MenuBar, htmlPath)[3:]\n",
    "            + ' \"class=\"menuBar\"> <p>'\n",
    "            + MenuBar.split(\"//\")[-1].replace(\".html\", \"\")\n",
    "            + \"</p></a>\"\n",
    "        )\n",
    "\n",
    "    barText = barText + \"</div><!-- End of Menu Bar -->\"\n",
    "\n",
    "    # Modifying the file\n",
    "    html = open(htmlPath, \"r\", encoding=\"utf-8\")\n",
    "    htmlTexts = html.read()\n",
    "    temp = htmlTexts.split(\"<!-- Menu Bar -->\")\n",
    "    \n",
    "    if len(temp) == 2:\n",
    "        temp1 = temp[0]\n",
    "        temp2 = temp[1]\n",
    "        temp3 = temp2.split(\"<!-- End of Menu Bar -->\")[1]\n",
    "\n",
    "        htmlTexts = temp1 + barText + temp3\n",
    "\n",
    "        html = open(htmlPath, \"w\", encoding=\"utf-8\")\n",
    "        html.write(htmlTexts)\n",
    "        print(\"z: MENU BAR OF THIS FILE HAS BEEN MODIFIED:\" + htmlPath)"
   ]
  },
  {
   "cell_type": "markdown",
   "metadata": {},
   "source": [
    "Modify all path: only run when add an item into the menu bar"
   ]
  },
  {
   "cell_type": "code",
   "execution_count": null,
   "metadata": {},
   "outputs": [],
   "source": [
    "if UploadAllMenuBars:\n",
    "    # Operation\n",
    "    for htmlPath in allHtmlPaths:\n",
    "        # Generating menu bar html\n",
    "        AddMenuBar(htmlPath)\n"
   ]
  },
  {
   "cell_type": "markdown",
   "metadata": {},
   "source": [
    "## Main menu updater\n",
    "        Detect the all the sub-folders and only changed if needed"
   ]
  },
  {
   "cell_type": "code",
   "execution_count": 97,
   "metadata": {},
   "outputs": [],
   "source": [
    "# \"\"\"\n",
    "# !Example\n",
    "#     <a href=\"2020-03-11 建筑思维与手机选择1/建筑思维与手机选择1.html\">\n",
    "#         <img  class=\"items\" src=\"2020-03-11 建筑思维与手机选择1/images/0001.jpg\" alt=\"建筑思维与手机选择1\">\n",
    "#         </a>\n",
    "# \"\"\"\n",
    "\n",
    "# x = \"../zDesigner/zDesigner.html\"\n",
    "# y = \"../index.html\"\n",
    "# print(x)\n",
    "# print(y)\n",
    "# print(os.path.relpath(x, y))\n",
    "\n",
    "# x = \"../zDesigner/zDesigner.html\"\n",
    "# y = \"../zDesigner/zDesigner.html\"\n",
    "# print(x)\n",
    "# print(y)\n",
    "# print(os.path.relpath(x, y))\n",
    "\n",
    "# x = \"../zDesigner/zDesigner.html\"\n",
    "# y = \"../zDesigner/2022-05-01 Section Clipper —— 课程设计/Section Clipper —— 课程设计.html\"\n",
    "# print(x)\n",
    "# print(y)\n",
    "# print(os.path.relpath(x, y))"
   ]
  },
  {
   "cell_type": "code",
   "execution_count": 126,
   "metadata": {},
   "outputs": [],
   "source": [
    "if UpdateAllMainMenus:\n",
    "    for m in MainMenuDir:\n",
    "        name = m.split(\"/\")[-2]\n",
    "        theHtmlPaths = []\n",
    "\n",
    "        html = open(m, \"r\", encoding=\"utf-8\")\n",
    "        htmlTexts = html.read()\n",
    "        allOutStrings = \"\"\n",
    "\n",
    "        for p in allHtmlPaths:\n",
    "            if len(p.split(name)) == 2:\n",
    "                if htmlTexts.find(p.split(\"/\")[-1]) == -1:\n",
    "\n",
    "                    # Get the image\n",
    "                    imagePath = \"../resources/Cover.jpg\"\n",
    "                    for file in os.listdir(os.path.dirname(p) + \"/images\"):\n",
    "                        if file.endswith((\".jpg\", \".png\", \".jpeg\")):\n",
    "                            imagePath = os.path.dirname(p) + \"/images/\" + file\n",
    "                            break\n",
    "                    outString = \"<!--! ADD NEW ARTICLE HERE -->\"\n",
    "                    str1 = '<a href=\"'\n",
    "                    str2 = os.path.relpath(p, m)[3:]\n",
    "                    str3 = '\">'\n",
    "                    str4 = '<img  class=\"items\" src=\"'\n",
    "                    str5 = imagePath.split(name)[1][1:] + '\" alt=\"'\n",
    "                    str6 = os.path.relpath(p, m)[3:]\n",
    "                    str7 = '\"></a>'\n",
    "                    outString = outString + str1 + str2 + str3 + str4 + str5 + str6 + str7\n",
    "                    allOutStrings = outString + allOutStrings\n",
    "                    print(\"z: THIS ITEM: \" + p + \"    WILL BE ADDED IN THE MENU:\" + m)\n",
    "\n",
    "        if len(allOutStrings) > 0:\n",
    "            html = open(m, \"w\", encoding=\"utf-8\")\n",
    "            temp = htmlTexts.split(\"<!--! ADD NEW ARTICLE HERE -->\")\n",
    "            html.write(temp[0] + allOutStrings + temp[1])\n",
    "            print(allOutStrings)\n"
   ]
  },
  {
   "cell_type": "markdown",
   "metadata": {},
   "source": [
    "## CV updater\n",
    "    Only run if you want to update the CV"
   ]
  },
  {
   "cell_type": "code",
   "execution_count": 6,
   "metadata": {},
   "outputs": [],
   "source": [
    "\n",
    "def CVTexts(mdstr):\n",
    "    exts = ['markdown.extensions.extra', 'markdown.extensions.codehilite','markdown.extensions.tables','markdown.extensions.toc']\n",
    "\n",
    "    html = '''\n",
    "    <html lang=\"en\">\n",
    "    <head>\n",
    "    <meta http-equiv=\"X-UA-Compatible\" content=\"IE=edge\" />\n",
    "    <link rel=\"stylesheet\" href=\"zMarkdownStyles.css\" />\n",
    "    <meta name=\"viewport\" content=\"width=device-width, initial-scale=1.0\" />\n",
    "    <title>zCV</title>\n",
    "    <link\n",
    "        href=\"https://fonts.googleapis.com/css2?family=Source+Code+Pro:ital,wght@0,200;0,300;0,400;0,500;0,600;0,700;0,800;0,900;1,200;1,300;1,500;1,600;1,700;1,800;1,900&display=swap\"\n",
    "        rel=\"stylesheet\"\n",
    "    />\n",
    "    <link rel=\"icon\" href=\"/resources/LogoIcon.png\" type=\"image/x-icon\"/>\n",
    "    </head>\n",
    "    <body>\n",
    "    <img class=\"portrait\" src=\"resources/Zac_5.jpg\" alt=\"portrait\">\n",
    "    %s\n",
    "    </body>\n",
    "    </html>\n",
    "    '''\n",
    "\n",
    "    ret = markdown.markdown(mdstr,extensions=exts)\n",
    "    return html % ret\n"
   ]
  },
  {
   "cell_type": "code",
   "execution_count": null,
   "metadata": {},
   "outputs": [],
   "source": [
    "if UpdateCV:\n",
    "    location = \"../zCV.md\"\n",
    "    htmlLocation = \"../zCV.html\"\n",
    "    md = open(location, \"r\", encoding=\"utf-8\")\n",
    "    mdTexts = md.read()\n",
    "    # print (md2html(mdTexts))\n",
    "    md.close()\n",
    "\n",
    "    html = open(htmlLocation, \"w\", encoding=\"utf-8\")\n",
    "    html.write(CVTexts(mdTexts))\n",
    "    html.close()\n",
    "    print (\"z: THIS FILE WOULD BE MODIFIED: zCV.html\")"
   ]
  },
  {
   "cell_type": "markdown",
   "metadata": {},
   "source": [
    "## WeChart article updater\n",
    "        Only run if you have a new WeChart article to upload"
   ]
  }
 ],
 "metadata": {
  "kernelspec": {
   "display_name": "Python 3.11.0 64-bit",
   "language": "python",
   "name": "python3"
  },
  "language_info": {
   "codemirror_mode": {
    "name": "ipython",
    "version": 3
   },
   "file_extension": ".py",
   "mimetype": "text/x-python",
   "name": "python",
   "nbconvert_exporter": "python",
   "pygments_lexer": "ipython3",
   "version": "3.11.0"
  },
  "orig_nbformat": 4,
  "vscode": {
   "interpreter": {
    "hash": "8c3baee22f7aea24140d8527738ad3288fd74ddfe4eeddd8ce2c2f5be318de5e"
   }
  }
 },
 "nbformat": 4,
 "nbformat_minor": 2
}
